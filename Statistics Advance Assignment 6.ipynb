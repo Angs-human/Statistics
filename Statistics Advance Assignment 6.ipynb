{
 "cells": [
  {
   "cell_type": "markdown",
   "id": "3029e36d-1259-49a2-be14-fa8b8ab39c4b",
   "metadata": {},
   "source": [
    "# Q1. Write a Python function that takes in two arrays of data and calculates the F-value for a variance ratio test. The function should return the F-value and the corresponding p-value for the test."
   ]
  },
  {
   "cell_type": "code",
   "execution_count": 1,
   "id": "e2077074-a40c-48d9-8d82-347c10f7e86c",
   "metadata": {},
   "outputs": [
    {
     "name": "stdout",
     "output_type": "stream",
     "text": [
      "F-value: 1.4800, P-value: 0.3567\n"
     ]
    }
   ],
   "source": [
    "import numpy as np\n",
    "from scipy import stats\n",
    "\n",
    "def calculate_f_value_and_p_value(data1, data2):\n",
    "    # Calculate variances\n",
    "    var1 = np.var(data1, ddof=1)  # Sample variance for data1\n",
    "    var2 = np.var(data2, ddof=1)  # Sample variance for data2\n",
    "\n",
    "    # Calculate F-value\n",
    "    f_value = var1 / var2 if var1 > var2 else var2 / var1  # Ensure F > 1 for comparison\n",
    "    \n",
    "    # Degrees of freedom\n",
    "    df1 = len(data1) - 1  # Degrees of freedom for data1\n",
    "    df2 = len(data2) - 1  # Degrees of freedom for data2\n",
    "\n",
    "    # Calculate p-value\n",
    "    p_value = 1 - stats.f.cdf(f_value, df1, df2)\n",
    "\n",
    "    return f_value, p_value\n",
    "\n",
    "# Example usage\n",
    "data1 = np.array([20, 22, 23, 24, 25])\n",
    "data2 = np.array([30, 31, 29, 32, 33])\n",
    "\n",
    "f_value, p_value = calculate_f_value_and_p_value(data1, data2)\n",
    "print(f\"F-value: {f_value:.4f}, P-value: {p_value:.4f}\")\n",
    "\n"
   ]
  },
  {
   "cell_type": "markdown",
   "id": "421b21d7-8f5e-4290-ac43-bb73ef61eac8",
   "metadata": {},
   "source": [
    "# Q2. Given a significance level of 0.05 and the degrees of freedom for the numerator and denominator of an F-distribution, write a Python function that returns the critical F-value for a two-tailed test."
   ]
  },
  {
   "cell_type": "code",
   "execution_count": 2,
   "id": "eb54800d-b6c7-4d88-b3ba-05f5b40be801",
   "metadata": {},
   "outputs": [
    {
     "name": "stdout",
     "output_type": "stream",
     "text": [
      "Critical F-values: Lower = 0.2592, Upper = 3.8587\n"
     ]
    }
   ],
   "source": [
    "from scipy import stats\n",
    "\n",
    "def critical_f_value(alpha, df_numerator, df_denominator):\n",
    "    \"\"\"\n",
    "    Calculate the critical F-value for a two-tailed test.\n",
    "    \n",
    "    Parameters:\n",
    "    alpha (float): Significance level (e.g., 0.05)\n",
    "    df_numerator (int): Degrees of freedom for the numerator\n",
    "    df_denominator (int): Degrees of freedom for the denominator\n",
    "    \n",
    "    Returns:\n",
    "    float: Critical F-value\n",
    "    \"\"\"\n",
    "    # Calculate critical value for the upper tail\n",
    "    critical_value_upper = stats.f.ppf(1 - alpha / 2, df_numerator, df_denominator)\n",
    "    \n",
    "    # For two-tailed, the lower critical value is the reciprocal of the upper critical value\n",
    "    critical_value_lower = 1 / critical_value_upper\n",
    "    \n",
    "    return critical_value_lower, critical_value_upper\n",
    "\n",
    "# Example usage\n",
    "alpha = 0.05\n",
    "df_numerator = 3  # Example degrees of freedom for the numerator\n",
    "df_denominator = 20  # Example degrees of freedom for the denominator\n",
    "\n",
    "critical_values = critical_f_value(alpha, df_numerator, df_denominator)\n",
    "print(f\"Critical F-values: Lower = {critical_values[0]:.4f}, Upper = {critical_values[1]:.4f}\")\n"
   ]
  },
  {
   "cell_type": "markdown",
   "id": "0b80dca4-c920-4d4d-83c9-501c032bff32",
   "metadata": {},
   "source": [
    "# Q3. Write a Python program that generates random samples from two normal distributions with known variances and uses an F-test to determine if the variances are equal. The program should output the F- value, degrees of freedom, and p-value for the test."
   ]
  },
  {
   "cell_type": "code",
   "execution_count": 3,
   "id": "8987b1fe-ecc6-4e74-b1f9-7d1477525b8c",
   "metadata": {},
   "outputs": [
    {
     "name": "stdout",
     "output_type": "stream",
     "text": [
      "F-value: 2.1406\n",
      "Degrees of Freedom: df1 = 29, df2 = 29\n",
      "P-value: 0.0223\n",
      "Reject the null hypothesis: The variances are significantly different.\n"
     ]
    }
   ],
   "source": [
    "import numpy as np\n",
    "import scipy.stats as stats\n",
    "\n",
    "def f_test_for_variance(data1, data2):\n",
    "\n",
    "    # Calculate variances\n",
    "    var1 = np.var(data1, ddof=1)  # Sample variance for data1\n",
    "    var2 = np.var(data2, ddof=1)  # Sample variance for data2\n",
    "\n",
    "    # Calculate F-value\n",
    "    f_value = var1 / var2 if var1 > var2 else var2 / var1\n",
    "    \n",
    "    # Degrees of freedom\n",
    "    df1 = len(data1) - 1  # Degrees of freedom for data1\n",
    "    df2 = len(data2) - 1  # Degrees of freedom for data2\n",
    "    \n",
    "    # Calculate p-value\n",
    "    p_value = 1 - stats.f.cdf(f_value, df1, df2)\n",
    "    \n",
    "    return f_value, (df1, df2), p_value\n",
    "\n",
    "# Generate random samples\n",
    "np.random.seed(42)  # For reproducibility\n",
    "n_samples = 30\n",
    "mean1, var1 = 50, 10  # Mean and variance for the first distribution\n",
    "mean2, var2 = 50, 20  # Mean and variance for the second distribution\n",
    "\n",
    "# Generate random samples from two normal distributions\n",
    "data1 = np.random.normal(mean1, np.sqrt(var1), n_samples)\n",
    "data2 = np.random.normal(mean2, np.sqrt(var2), n_samples)\n",
    "\n",
    "# Perform F-test for variances\n",
    "f_value, (df1, df2), p_value = f_test_for_variance(data1, data2)\n",
    "\n",
    "# Output the results\n",
    "print(f\"F-value: {f_value:.4f}\")\n",
    "print(f\"Degrees of Freedom: df1 = {df1}, df2 = {df2}\")\n",
    "print(f\"P-value: {p_value:.4f}\")\n",
    "\n",
    "# Check significance\n",
    "alpha = 0.05\n",
    "if p_value < alpha:\n",
    "    print(\"Reject the null hypothesis: The variances are significantly different.\")\n",
    "else:\n",
    "    print(\"Fail to reject the null hypothesis: The variances are not significantly different.\")\n"
   ]
  },
  {
   "cell_type": "markdown",
   "id": "33a6ce9f-d7df-44b4-b7f8-a21374d6fe85",
   "metadata": {},
   "source": [
    "# Q4.The variances of two populations are known to be 10 and 15. A sample of 12 observations is taken from each population. Conduct an F-test at the 5% significance level to determine if the variances are significantly different."
   ]
  },
  {
   "cell_type": "code",
   "execution_count": 4,
   "id": "74c28366-c989-4965-917f-d2fb6eb6559b",
   "metadata": {},
   "outputs": [
    {
     "name": "stdout",
     "output_type": "stream",
     "text": [
      "F-statistic: 0.6667\n",
      "Critical F-value (alpha = 0.05): 2.8179\n",
      "Fail to reject the null hypothesis: The variances are not significantly different.\n"
     ]
    }
   ],
   "source": [
    "import scipy.stats as stats\n",
    "\n",
    "# Known variances\n",
    "var1 = 10  # Variance of population 1\n",
    "var2 = 15  # Variance of population 2\n",
    "\n",
    "# Sample sizes\n",
    "n1 = 12\n",
    "n2 = 12\n",
    "\n",
    "# Calculate F-statistic\n",
    "F_statistic = var1 / var2\n",
    "\n",
    "# Degrees of freedom\n",
    "df1 = n1 - 1  # Degrees of freedom for population 1\n",
    "df2 = n2 - 1  # Degrees of freedom for population 2\n",
    "\n",
    "# Significance level\n",
    "alpha = 0.05\n",
    "\n",
    "# Calculate critical F-value\n",
    "critical_value = stats.f.ppf(1 - alpha, df1, df2)\n",
    "\n",
    "# Output results\n",
    "print(f\"F-statistic: {F_statistic:.4f}\")\n",
    "print(f\"Critical F-value (alpha = {alpha}): {critical_value:.4f}\")\n",
    "\n",
    "# Compare F-statistic with critical value\n",
    "if F_statistic > critical_value:\n",
    "    print(\"Reject the null hypothesis: The variances are significantly different.\")\n",
    "else:\n",
    "    print(\"Fail to reject the null hypothesis: The variances are not significantly different.\")\n"
   ]
  },
  {
   "cell_type": "markdown",
   "id": "40c14d46-91c7-40b0-8b0d-6c5f850d6f27",
   "metadata": {},
   "source": [
    "# Q5. A manufacturer claims that the variance of the diameter of a certain product is 0.005. A sample of 25 products is taken, and the sample variance is found to be 0.006. Conduct an F-test at the 1% significance level to determine if the claim is justified."
   ]
  },
  {
   "cell_type": "code",
   "execution_count": 5,
   "id": "3746b523-66c8-4b62-aff1-420cfc95e459",
   "metadata": {},
   "outputs": [
    {
     "name": "stdout",
     "output_type": "stream",
     "text": [
      "F-statistic: 1.2000\n",
      "Critical F-values (alpha = 0.01): Lower = 0.3371, Upper = 2.9667\n",
      "Fail to reject the null hypothesis: The sample variance is not significantly different from the claimed variance.\n"
     ]
    }
   ],
   "source": [
    "import scipy.stats as stats\n",
    "\n",
    "# Known values\n",
    "claimed_variance = 0.005  # Claimed population variance\n",
    "sample_variance = 0.006    # Sample variance\n",
    "sample_size = 25            # Sample size\n",
    "\n",
    "# Calculate F-statistic\n",
    "F_statistic = sample_variance / claimed_variance\n",
    "\n",
    "# Degrees of freedom\n",
    "df = sample_size - 1  # Degrees of freedom\n",
    "\n",
    "# Significance level\n",
    "alpha = 0.01\n",
    "\n",
    "# Calculate critical F-values for a two-tailed test\n",
    "critical_value_upper = stats.f.ppf(1 - alpha/2, df, df)\n",
    "critical_value_lower = stats.f.ppf(alpha/2, df, df)\n",
    "\n",
    "# Output results\n",
    "print(f\"F-statistic: {F_statistic:.4f}\")\n",
    "print(f\"Critical F-values (alpha = {alpha}): Lower = {critical_value_lower:.4f}, Upper = {critical_value_upper:.4f}\")\n",
    "\n",
    "# Compare F-statistic with critical values\n",
    "if F_statistic < critical_value_lower or F_statistic > critical_value_upper:\n",
    "    print(\"Reject the null hypothesis: The sample variance is significantly different from the claimed variance.\")\n",
    "else:\n",
    "    print(\"Fail to reject the null hypothesis: The sample variance is not significantly different from the claimed variance.\")\n"
   ]
  },
  {
   "cell_type": "markdown",
   "id": "2852cffb-fbbd-4476-a8c9-1895c0bc7200",
   "metadata": {},
   "source": [
    "# Q6. Write a Python function that takes in the degrees of freedom for the numerator and denominator of an F-distribution and calculates the mean and variance of the distribution. The function should return the mean and variance as a tuple."
   ]
  },
  {
   "cell_type": "code",
   "execution_count": 6,
   "id": "c4bedc6a-8011-4109-b162-a55d9351fdc7",
   "metadata": {},
   "outputs": [
    {
     "name": "stdout",
     "output_type": "stream",
     "text": [
      "Mean of F-distribution: 1.6667\n",
      "Variance of F-distribution: 7.1111\n"
     ]
    }
   ],
   "source": [
    "def f_distribution_mean_variance(df1, df2):\n",
    "  \n",
    "    # Calculate mean\n",
    "    if df1 > 2:\n",
    "        mean = df1 / (df1 - 2)\n",
    "    else:\n",
    "        mean = None  # Mean is undefined for df1 <= 2\n",
    "    \n",
    "    # Calculate variance\n",
    "    if df1 > 4:\n",
    "        variance = (2 * (df2 ** 2) * (df1 + df1 - 2)) / (df1 ** 2 * (df1 - 2) ** 2 * (df1 - 4))\n",
    "    else:\n",
    "        variance = None  # Variance is undefined for df1 <= 4\n",
    "    \n",
    "    return mean, variance\n",
    "\n",
    "# Example usage\n",
    "df1 = 5  # Degrees of freedom for the numerator\n",
    "df2 = 10  # Degrees of freedom for the denominator\n",
    "\n",
    "mean, variance = f_distribution_mean_variance(df1, df2)\n",
    "print(f\"Mean of F-distribution: {mean:.4f}\")\n",
    "print(f\"Variance of F-distribution: {variance:.4f}\")\n"
   ]
  },
  {
   "cell_type": "markdown",
   "id": "e3e0f07d-2f39-4b6d-ba1d-0bc93b9157c7",
   "metadata": {},
   "source": [
    "# Q7. A random sample of 10 measurements is taken from a normal population with unknown variance. The sample variance is found to be 25. Another random sample of 15 measurements is taken from another normal population with unknown variance, and the sample variance is found to be 20. Conduct an F-test at the 10% significance level to determine if the variances are significantly different."
   ]
  },
  {
   "cell_type": "code",
   "execution_count": 7,
   "id": "48668189-b73b-4042-8658-88ff09c320e7",
   "metadata": {},
   "outputs": [
    {
     "name": "stdout",
     "output_type": "stream",
     "text": [
      "F-statistic: 1.2500\n",
      "Critical F-values (alpha = 0.1): Lower = 0.3305, Upper = 2.6458\n",
      "Fail to reject the null hypothesis: The variances are not significantly different.\n"
     ]
    }
   ],
   "source": [
    "import scipy.stats as stats\n",
    "\n",
    "# Known values\n",
    "s1_squared = 25  # Sample variance of population 1\n",
    "s2_squared = 20  # Sample variance of population 2\n",
    "n1 = 10          # Sample size of population 1\n",
    "n2 = 15          # Sample size of population 2\n",
    "\n",
    "# Calculate F-statistic\n",
    "F_statistic = s1_squared / s2_squared\n",
    "\n",
    "# Degrees of freedom\n",
    "df1 = n1 - 1  # Degrees of freedom for population 1\n",
    "df2 = n2 - 1  # Degrees of freedom for population 2\n",
    "\n",
    "# Significance level\n",
    "alpha = 0.10\n",
    "\n",
    "# Calculate critical F-values for a two-tailed test\n",
    "critical_value_upper = stats.f.ppf(1 - alpha / 2, df1, df2)\n",
    "critical_value_lower = stats.f.ppf(alpha / 2, df1, df2)\n",
    "\n",
    "# Output results\n",
    "print(f\"F-statistic: {F_statistic:.4f}\")\n",
    "print(f\"Critical F-values (alpha = {alpha}): Lower = {critical_value_lower:.4f}, Upper = {critical_value_upper:.4f}\")\n",
    "\n",
    "# Compare F-statistic with critical values\n",
    "if F_statistic < critical_value_lower or F_statistic > critical_value_upper:\n",
    "    print(\"Reject the null hypothesis: The variances are significantly different.\")\n",
    "else:\n",
    "    print(\"Fail to reject the null hypothesis: The variances are not significantly different.\")\n"
   ]
  },
  {
   "cell_type": "markdown",
   "id": "ee1ccab3-d1c3-4ae7-9c73-b328ca1f1af6",
   "metadata": {},
   "source": [
    "# Q8. The following data represent the waiting times in minutes at two different restaurants on a Saturday night: Restaurant A: 24, 25, 28, 23, 22, 20, 27; Restaurant B: 31, 33, 35, 30, 32, 36. Conduct an F-test at the 5% significance level to determine if the variances are significantly different."
   ]
  },
  {
   "cell_type": "code",
   "execution_count": 8,
   "id": "48ca311a-7373-4e5e-8209-2a568b6f36ec",
   "metadata": {},
   "outputs": [
    {
     "name": "stdout",
     "output_type": "stream",
     "text": [
      "Sample Variance of Restaurant A: 7.8095\n",
      "Sample Variance of Restaurant B: 5.3667\n",
      "F-statistic: 1.4552\n",
      "Critical F-values (alpha = 0.05): Lower = 0.1670, Upper = 6.9777\n",
      "Fail to reject the null hypothesis: The variances are not significantly different.\n"
     ]
    }
   ],
   "source": [
    "import numpy as np\n",
    "import scipy.stats as stats\n",
    "\n",
    "# Data for Restaurant A and B\n",
    "restaurant_a = np.array([24, 25, 28, 23, 22, 20, 27])\n",
    "restaurant_b = np.array([31, 33, 35, 30, 32, 36])\n",
    "\n",
    "# Calculate sample variances\n",
    "s_a_squared = np.var(restaurant_a, ddof=1)  # Sample variance for Restaurant A\n",
    "s_b_squared = np.var(restaurant_b, ddof=1)  # Sample variance for Restaurant B\n",
    "\n",
    "# Calculate F-statistic\n",
    "F_statistic = s_a_squared / s_b_squared\n",
    "\n",
    "# Degrees of freedom\n",
    "n_a = len(restaurant_a)  # Sample size for Restaurant A\n",
    "n_b = len(restaurant_b)  # Sample size for Restaurant B\n",
    "df_a = n_a - 1  # Degrees of freedom for Restaurant A\n",
    "df_b = n_b - 1  # Degrees of freedom for Restaurant B\n",
    "\n",
    "# Significance level\n",
    "alpha = 0.05\n",
    "\n",
    "# Calculate critical F-values for a two-tailed test\n",
    "critical_value_upper = stats.f.ppf(1 - alpha / 2, df_a, df_b)\n",
    "critical_value_lower = stats.f.ppf(alpha / 2, df_a, df_b)\n",
    "\n",
    "# Output results\n",
    "print(f\"Sample Variance of Restaurant A: {s_a_squared:.4f}\")\n",
    "print(f\"Sample Variance of Restaurant B: {s_b_squared:.4f}\")\n",
    "print(f\"F-statistic: {F_statistic:.4f}\")\n",
    "print(f\"Critical F-values (alpha = {alpha}): Lower = {critical_value_lower:.4f}, Upper = {critical_value_upper:.4f}\")\n",
    "\n",
    "# Compare F-statistic with critical values\n",
    "if F_statistic < critical_value_lower or F_statistic > critical_value_upper:\n",
    "    print(\"Reject the null hypothesis: The variances are significantly different.\")\n",
    "else:\n",
    "    print(\"Fail to reject the null hypothesis: The variances are not significantly different.\")\n"
   ]
  },
  {
   "cell_type": "markdown",
   "id": "ce249634-fded-42e7-b6ed-fb90fa1e26b8",
   "metadata": {},
   "source": [
    "# Q9. The following data represent the test scores of two groups of students: Group A: 80, 85, 90, 92, 87, 83; Group B: 75, 78, 82, 79, 81, 84. Conduct an F-test at the 1% significance level to determine if the variances are significantly different."
   ]
  },
  {
   "cell_type": "code",
   "execution_count": 9,
   "id": "bae59297-d1b9-49b1-9d1b-b0047d469bc8",
   "metadata": {},
   "outputs": [
    {
     "name": "stdout",
     "output_type": "stream",
     "text": [
      "Sample Variance of Group A: 19.7667\n",
      "Sample Variance of Group B: 10.1667\n",
      "F-statistic: 1.9443\n",
      "Critical F-values (alpha = 0.01): Lower = 0.0669, Upper = 14.9396\n",
      "Fail to reject the null hypothesis: The variances are not significantly different.\n"
     ]
    }
   ],
   "source": [
    "import numpy as np\n",
    "import scipy.stats as stats\n",
    "\n",
    "# Data for Group A and Group B\n",
    "group_a = np.array([80, 85, 90, 92, 87, 83])\n",
    "group_b = np.array([75, 78, 82, 79, 81, 84])\n",
    "\n",
    "# Calculate sample variances\n",
    "s_a_squared = np.var(group_a, ddof=1)  # Sample variance for Group A\n",
    "s_b_squared = np.var(group_b, ddof=1)  # Sample variance for Group B\n",
    "\n",
    "# Calculate F-statistic\n",
    "F_statistic = s_a_squared / s_b_squared\n",
    "\n",
    "# Degrees of freedom\n",
    "n_a = len(group_a)  # Sample size for Group A\n",
    "n_b = len(group_b)  # Sample size for Group B\n",
    "df_a = n_a - 1  # Degrees of freedom for Group A\n",
    "df_b = n_b - 1  # Degrees of freedom for Group B\n",
    "\n",
    "# Significance level\n",
    "alpha = 0.01\n",
    "\n",
    "# Calculate critical F-values for a two-tailed test\n",
    "critical_value_upper = stats.f.ppf(1 - alpha / 2, df_a, df_b)\n",
    "critical_value_lower = stats.f.ppf(alpha / 2, df_a, df_b)\n",
    "\n",
    "# Output results\n",
    "print(f\"Sample Variance of Group A: {s_a_squared:.4f}\")\n",
    "print(f\"Sample Variance of Group B: {s_b_squared:.4f}\")\n",
    "print(f\"F-statistic: {F_statistic:.4f}\")\n",
    "print(f\"Critical F-values (alpha = {alpha}): Lower = {critical_value_lower:.4f}, Upper = {critical_value_upper:.4f}\")\n",
    "\n",
    "# Compare F-statistic with critical values\n",
    "if F_statistic < critical_value_lower or F_statistic > critical_value_upper:\n",
    "    print(\"Reject the null hypothesis: The variances are significantly different.\")\n",
    "else:\n",
    "    print(\"Fail to reject the null hypothesis: The variances are not significantly different.\")\n"
   ]
  }
 ],
 "metadata": {
  "kernelspec": {
   "display_name": "Python 3 (ipykernel)",
   "language": "python",
   "name": "python3"
  },
  "language_info": {
   "codemirror_mode": {
    "name": "ipython",
    "version": 3
   },
   "file_extension": ".py",
   "mimetype": "text/x-python",
   "name": "python",
   "nbconvert_exporter": "python",
   "pygments_lexer": "ipython3",
   "version": "3.12.4"
  }
 },
 "nbformat": 4,
 "nbformat_minor": 5
}
