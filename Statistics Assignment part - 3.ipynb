{
 "cells": [
  {
   "cell_type": "markdown",
   "id": "72c67edf-4aba-461d-a8aa-696538081c26",
   "metadata": {},
   "source": [
    "# Q1. What is the Probability density function?"
   ]
  },
  {
   "cell_type": "markdown",
   "id": "30912a2b-92ba-41e3-93f8-a66198f03afe",
   "metadata": {},
   "source": [
    "The **Probability Density Function (PDF)** is a statistical function that describes the likelihood of a continuous random variable taking on a specific value. It provides the relative likelihood for this random variable to occur at a given point in the sample space.\n",
    "\n",
    "### Key characteristics of a PDF:\n",
    "1. **Continuous Variables**: PDF is used for continuous random variables, meaning the variable can take any value within a given range.\n",
    "   \n",
    "2. **Non-Negativity**: The value of a PDF is always non-negative, i.e., \\( f(x) \\geq 0 \\) for all \\( x \\).\n",
    "\n",
    "3. **Area Under the Curve = 1**: The total area under the curve of the PDF over all possible values must equal 1, as it represents the entire probability space.\n",
    "\n",
    "4. **Interpretation**: For a given value \\( x \\), \\( f(x) \\) does not give the probability that the variable equals \\( x \\) (since it's continuous) but rather the probability density at \\( x \\). The actual probability of the variable falling within an interval \\( [a, b] \\) is the area under the PDF curve between \\( a \\) and \\( b \\), i.e.,\n",
    "   \\[\n",
    "   P(a \\leq X \\leq b) = \\int_a^b f(x) dx\n",
    "   \\]\n",
    "\n",
    "### Example\n",
    "If \\( X \\) is a normally distributed random variable with mean \\( \\mu \\) and standard deviation \\( \\sigma \\), its PDF is given by:\n",
    "\\[\n",
    "f(x) = \\frac{1}{\\sigma \\sqrt{2\\pi}} e^{-\\frac{(x - \\mu)^2}{2\\sigma^2}}\n",
    "\\]\n",
    "This is the familiar bell-shaped curve of the normal distribution.\n",
    "\n"
   ]
  },
  {
   "cell_type": "markdown",
   "id": "7348f240-9a15-46f0-9988-99ea7041d35c",
   "metadata": {},
   "source": [
    "# Q2. What are the types of Probability distribution?"
   ]
  },
  {
   "cell_type": "markdown",
   "id": "96c12df8-0279-4d85-adf9-1b611d53670e",
   "metadata": {},
   "source": [
    "There are two main categories of **Probability Distributions**: **Discrete** and **Continuous**. Each has specific types of distributions within them.\n",
    "\n",
    "### 1. **Discrete Probability Distributions**\n",
    "   These distributions describe scenarios where the outcomes are countable (i.e., they take on distinct, separate values).\n",
    "\n",
    "   **Common Types:**\n",
    "   - **Binomial Distribution**:\n",
    "     - Used for a fixed number of independent trials, each having two possible outcomes (success or failure).\n",
    "     - Probability mass function (PMF) for binomial distribution:\n",
    "       \\[\n",
    "       P(X = k) = \\binom{n}{k} p^k (1-p)^{n-k}\n",
    "       \\]\n",
    "       where \\( n \\) is the number of trials, \\( k \\) is the number of successes, and \\( p \\) is the probability of success.\n",
    "   - **Poisson Distribution**:\n",
    "     - Describes the probability of a given number of events occurring in a fixed interval of time or space when these events occur with a known constant mean rate and independently of each other.\n",
    "     - PMF for Poisson distribution:\n",
    "       \\[\n",
    "       P(X = k) = \\frac{\\lambda^k e^{-\\lambda}}{k!}\n",
    "       \\]\n",
    "       where \\( \\lambda \\) is the average number of occurrences in a given time period, and \\( k \\) is the number of occurrences.\n",
    "   - **Geometric Distribution**:\n",
    "     - Models the number of trials needed for the first success in repeated Bernoulli trials.\n",
    "     - PMF for geometric distribution:\n",
    "       \\[\n",
    "       P(X = k) = (1 - p)^{k-1} p\n",
    "       \\]\n",
    "       where \\( p \\) is the probability of success on each trial.\n",
    "\n",
    "### 2. **Continuous Probability Distributions**\n",
    "   These distributions describe scenarios where outcomes take any value within a given range (e.g., heights, temperatures).\n",
    "\n",
    "   **Common Types:**\n",
    "   - **Normal Distribution** (Gaussian Distribution):\n",
    "     - Symmetric, bell-shaped distribution where most values cluster around the mean.\n",
    "     - Probability density function (PDF) for normal distribution:\n",
    "       \\[\n",
    "       f(x) = \\frac{1}{\\sigma \\sqrt{2\\pi}} e^{-\\frac{(x - \\mu)^2}{2\\sigma^2}}\n",
    "       \\]\n",
    "       where \\( \\mu \\) is the mean, and \\( \\sigma \\) is the standard deviation.\n",
    "   - **Exponential Distribution**:\n",
    "     - Describes the time between events in a Poisson process, where events occur continuously and independently.\n",
    "     - PDF for exponential distribution:\n",
    "       \\[\n",
    "       f(x) = \\lambda e^{-\\lambda x}, \\quad x \\geq 0\n",
    "       \\]\n",
    "       where \\( \\lambda \\) is the rate parameter.\n",
    "   - **Uniform Distribution**:\n",
    "     - All outcomes in a given range are equally likely.\n",
    "     - PDF for continuous uniform distribution:\n",
    "       \\[\n",
    "       f(x) = \\frac{1}{b - a}, \\quad a \\leq x \\leq b\n",
    "       \\]\n",
    "       where \\( a \\) and \\( b \\) are the minimum and maximum values of the range.\n",
    "\n",
    "### Summary of Key Distributions:\n",
    "\n",
    "| **Type**         | **Distribution**    | **Use Case**                                |\n",
    "|------------------|---------------------|---------------------------------------------|\n",
    "| **Discrete**     | **Binomial**         | Fixed number of trials, binary outcomes     |\n",
    "| **Discrete**     | **Poisson**          | Counting events over a fixed interval       |\n",
    "| **Discrete**     | **Geometric**        | Trials until first success                  |\n",
    "| **Continuous**   | **Normal**           | Symmetric, bell-shaped; common in nature    |\n",
    "| **Continuous**   | **Exponential**      | Time between events in a Poisson process    |\n",
    "| **Continuous**   | **Uniform**          | Equal likelihood for all values in a range  |\n",
    "\n"
   ]
  },
  {
   "cell_type": "markdown",
   "id": "e24e9906-e23b-454c-b184-df788dcb4d9e",
   "metadata": {},
   "source": [
    "# Q3. Write a Python function to calculate the probability density function of a normal distribution with given mean and standard deviation at a given point."
   ]
  },
  {
   "cell_type": "code",
   "execution_count": 2,
   "id": "d57f7b3e-9362-4886-bd8a-dae35166871f",
   "metadata": {},
   "outputs": [
    {
     "name": "stdout",
     "output_type": "stream",
     "text": [
      "The PDF value at x = 1 is: 0.24197072451914337\n"
     ]
    }
   ],
   "source": [
    "import math\n",
    "\n",
    "def normal_pdf(x, mean, std_dev):\n",
    "   \n",
    "    variance = std_dev ** 2\n",
    "    coefficient = 1 / (math.sqrt(2 * math.pi * variance))\n",
    "    exponent = math.exp(-((x - mean) ** 2) / (2 * variance))\n",
    "    return coefficient * exponent\n",
    "\n",
    "# Example usage:\n",
    "mean = 0  \n",
    "std_dev = 1  \n",
    "x = 1 \n",
    "pdf_value = normal_pdf(x, mean, std_dev)\n",
    "print(f\"The PDF value at x = {x} is: {pdf_value}\")\n"
   ]
  },
  {
   "cell_type": "markdown",
   "id": "ba3911bd-ba0a-473c-97ee-3901b6a5d726",
   "metadata": {},
   "source": [
    "# Q4. What are the properties of Binomial distribution? Give two examples of events where binomial distribution can be applied."
   ]
  },
  {
   "cell_type": "markdown",
   "id": "dc8656a2-8a96-4632-bcfe-3868fb665a1d",
   "metadata": {},
   "source": [
    "The **Binomial Distribution** is a discrete probability distribution that describes the number of successes in a fixed number of independent trials, each with the same probability of success. Here are its key properties:\n",
    "\n",
    "### Properties of the Binomial Distribution:\n",
    "1. **Fixed Number of Trials (n)**:\n",
    "   - The experiment is repeated a fixed number of times, denoted by \\( n \\).\n",
    "\n",
    "2. **Two Possible Outcomes**:\n",
    "   - Each trial has only two possible outcomes: success (with probability \\( p \\)) and failure (with probability \\( 1 - p \\)).\n",
    "\n",
    "3. **Independent Trials**:\n",
    "   - The trials are independent of each other, meaning the outcome of one trial does not affect the outcome of another.\n",
    "\n",
    "4. **Constant Probability**:\n",
    "   - The probability of success, \\( p \\), remains the same for each trial.\n",
    "\n",
    "5. **Random Variable**:\n",
    "   - The random variable \\( X \\) represents the number of successes in \\( n \\) trials, and it can take integer values from 0 to \\( n \\).\n",
    "\n",
    "6. **Binomial Probability Formula**:\n",
    "   - The probability of observing exactly \\( k \\) successes in \\( n \\) trials is given by the formula:\n",
    "     \\[\n",
    "     P(X = k) = \\binom{n}{k} p^k (1 - p)^{n - k}\n",
    "     \\]\n",
    "     where:\n",
    "     - \\( \\binom{n}{k} \\) is the number of ways to choose \\( k \\) successes from \\( n \\) trials (binomial coefficient),\n",
    "     - \\( p \\) is the probability of success,\n",
    "     - \\( (1 - p) \\) is the probability of failure.\n",
    "\n",
    "7. **Mean and Variance**:\n",
    "   - Mean (\\( \\mu \\)): \\( \\mu = n \\cdot p \\)\n",
    "   - Variance (\\( \\sigma^2 \\)): \\( \\sigma^2 = n \\cdot p \\cdot (1 - p) \\)\n",
    "\n",
    "### Examples of Events Where Binomial Distribution Can Be Applied:\n",
    "\n",
    "1. **Tossing a Coin Multiple Times**:\n",
    "   - Suppose you toss a fair coin 10 times and want to know the probability of getting exactly 6 heads. Here:\n",
    "     - Each coin toss is independent.\n",
    "     - The probability of getting heads (success) is 0.5.\n",
    "     - The number of trials is fixed (10 tosses).\n",
    "     - This scenario follows a binomial distribution with \\( n = 10 \\) and \\( p = 0.5 \\).\n",
    "\n",
    "2. **Quality Control in Manufacturing**:\n",
    "   - A factory produces light bulbs, and 5% of them are defective. If 20 bulbs are selected at random, you may want to know the probability of finding exactly 2 defective bulbs. Here:\n",
    "     - Each bulb is inspected independently.\n",
    "     - The probability of a bulb being defective (success in this context) is 0.05.\n",
    "     - The number of trials is fixed (20 bulbs).\n",
    "     - This scenario follows a binomial distribution with \\( n = 20 \\) and \\( p = 0.05 \\).\n",
    "\n",
    "In both examples, the outcomes are binary (success/failure), and the number of trials is fixed, which aligns with the properties of a binomial distribution."
   ]
  },
  {
   "cell_type": "markdown",
   "id": "6fa7403e-c955-4f8d-960a-4002fbc51a92",
   "metadata": {},
   "source": [
    "# Q5. Generate a random sample of size 1000 from a binomial distribution with probability of success 0.4 and plot a histogram of the results using matplotlib."
   ]
  },
  {
   "cell_type": "code",
   "execution_count": 3,
   "id": "f2183574-5881-4b23-8c31-0d37843f4673",
   "metadata": {},
   "outputs": [
    {
     "data": {
      "image/png": "[encoded data removed]",
      "text/plain": [
       "<Figure size 640x480 with 1 Axes>"
      ]
     },
     "metadata": {},
     "output_type": "display_data"
    }
   ],
   "source": [
    "import numpy as np\n",
    "import matplotlib.pyplot as plt\n",
    "\n",
    "# Parameters for the binomial distribution\n",
    "n_trials = 10      # Number of trials per experiment\n",
    "p_success = 0.4    # Probability of success in each trial\n",
    "sample_size = 1000  # Size of the sample\n",
    "\n",
    "# Generate a random sample from the binomial distribution\n",
    "sample = np.random.binomial(n=n_trials, p=p_success, size=sample_size)\n",
    "\n",
    "# Plot the histogram of the sample\n",
    "plt.hist(sample, bins=np.arange(min(sample), max(sample) + 1), edgecolor='black', alpha=0.7)\n",
    "plt.title('Histogram of a Random Sample from Binomial Distribution')\n",
    "plt.xlabel('Number of Successes')\n",
    "plt.ylabel('Frequency')\n",
    "plt.grid(True)\n",
    "plt.show()\n"
   ]
  },
  {
   "cell_type": "markdown",
   "id": "973f4abb-8850-4916-91af-e44f93760096",
   "metadata": {},
   "source": [
    "# Q6. Write a Python function to calculate the cumulative distribution function of a Poisson distribution with given mean at a given point."
   ]
  },
  {
   "cell_type": "code",
   "execution_count": 4,
   "id": "e806cae2-1c20-4fda-8148-491c3c53e06c",
   "metadata": {},
   "outputs": [
    {
     "name": "stdout",
     "output_type": "stream",
     "text": [
      "The CDF value at k = 4 is: 0.8152632445237721\n"
     ]
    }
   ],
   "source": [
    "import math\n",
    "\n",
    "def poisson_cdf(k, mean):\n",
    "    \n",
    "    # Calculate the CDF by summing the probabilities up to and including k\n",
    "    cdf = 0\n",
    "    for i in range(0, k + 1):\n",
    "        cdf += (mean ** i * math.exp(-mean)) / math.factorial(i)\n",
    "    \n",
    "    return cdf\n",
    "\n",
    "# Example usage:\n",
    "mean = 3  # Mean (lambda) of the Poisson distribution\n",
    "k = 4     # Point at which to evaluate the CDF\n",
    "\n",
    "cdf_value = poisson_cdf(k, mean)\n",
    "print(f\"The CDF value at k = {k} is: {cdf_value}\")\n"
   ]
  },
  {
   "cell_type": "markdown",
   "id": "1d435ddb-ca0f-4e51-8ba7-653c3e46e918",
   "metadata": {},
   "source": [
    "# Q7. How Binomial distribution different from Poisson distribution?"
   ]
  },
  {
   "cell_type": "markdown",
   "id": "3ea1e8c5-72fd-48d9-b66b-0dfe561e4dc9",
   "metadata": {},
   "source": [
    "The **Binomial distribution** and the **Poisson distribution** are both discrete probability distributions, but they model different types of processes. Here are the key differences between the two:\n",
    "\n",
    "### 1. **Nature of the Experiments**:\n",
    "   - **Binomial Distribution**: \n",
    "     - Models the number of successes in a fixed number of independent trials, where each trial has two possible outcomes: success or failure.\n",
    "     - It is applicable when there is a known, fixed number of trials (e.g., flipping a coin 10 times).\n",
    "   \n",
    "   - **Poisson Distribution**:\n",
    "     - Models the number of occurrences of events in a fixed interval of time or space, where the events happen with a known constant average rate and independently of each other.\n",
    "     - It is applicable for events that occur randomly over time or space, such as the number of phone calls received at a call center in an hour.\n",
    "\n",
    "### 2. **Key Parameters**:\n",
    "   - **Binomial Distribution**:\n",
    "     - Two parameters:\n",
    "       - \\( n \\): Number of trials.\n",
    "       - \\( p \\): Probability of success in each trial.\n",
    "     - The distribution is defined for a fixed number of trials.\n",
    "   \n",
    "   - **Poisson Distribution**:\n",
    "     - One parameter:\n",
    "       - \\( \\lambda \\): The average rate (mean) of occurrences in the given time or space interval.\n",
    "     - The number of occurrences in the interval can be theoretically unbounded.\n",
    "\n",
    "### 3. **When Applied**:\n",
    "   - **Binomial Distribution**:\n",
    "     - Use when there is a fixed number of trials, and the interest is in counting how many successes occur.\n",
    "     - Example: Tossing a coin 10 times and counting the number of heads.\n",
    "   \n",
    "   - **Poisson Distribution**:\n",
    "     - Use when modeling the occurrence of rare or random events over a continuous interval (time, area, volume, etc.).\n",
    "     - Example: Counting the number of cars passing through a toll booth in an hour.\n",
    "\n",
    "### 4. **Relationship**:\n",
    "   - The **Poisson distribution** can be viewed as an approximation to the **Binomial distribution** under certain conditions:\n",
    "     - If the number of trials \\( n \\) is very large, and the probability of success \\( p \\) is very small, such that the mean \\( \\lambda = n \\cdot p \\) remains constant, then the binomial distribution can be approximated by the Poisson distribution with \\( \\lambda \\) as the parameter.\n",
    "\n",
    "### 5. **Probability Mass Functions (PMF)**:\n",
    "   - **Binomial PMF**:\n",
    "     \\[\n",
    "     P(X = k) = \\binom{n}{k} p^k (1 - p)^{n - k}\n",
    "     \\]\n",
    "     where \\( n \\) is the number of trials, \\( k \\) is the number of successes, and \\( p \\) is the probability of success.\n",
    "   \n",
    "   - **Poisson PMF**:\n",
    "     \\[\n",
    "     P(X = k) = \\frac{\\lambda^k e^{-\\lambda}}{k!}\n",
    "     \\]\n",
    "     where \\( \\lambda \\) is the average number of occurrences, and \\( k \\) is the number of occurrences in a fixed interval.\n",
    "\n",
    "### 6. **Examples**:\n",
    "   - **Binomial Example**:\n",
    "     - A factory quality control inspector checks 10 products, and each has a 5% chance of being defective. The number of defective items follows a binomial distribution.\n",
    "   \n",
    "   - **Poisson Example**:\n",
    "     - The number of emails you receive per hour follows a Poisson distribution if emails arrive randomly and independently at a constant average rate.\n",
    "\n",
    "### Summary of Differences:\n",
    "\n",
    "| **Aspect**           | **Binomial Distribution**                           | **Poisson Distribution**                           |\n",
    "|----------------------|-----------------------------------------------------|---------------------------------------------------|\n",
    "| **Number of Trials**  | Fixed number of trials \\( n \\)                      | Infinite potential events in a continuous interval |\n",
    "| **Probability**       | Fixed probability \\( p \\) of success per trial      | Constant average rate \\( \\lambda \\) of occurrence  |\n",
    "| **Typical Use**       | Counting successes in fixed trials                  | Counting occurrences of rare events over time/space|\n",
    "| **Parameters**        | \\( n \\) (number of trials), \\( p \\) (probability)   | \\( \\lambda \\) (average rate of occurrences)        |\n",
    "| **Example**           | Number of heads in 10 coin flips                    | Number of calls received per hour                 |\n",
    "\n"
   ]
  },
  {
   "cell_type": "markdown",
   "id": "7db8fc7b-a391-4599-b6d3-7905b44e19bd",
   "metadata": {},
   "source": [
    "# Q8. Generate a random sample of size 1000 from a Poisson distribution with mean 5 and calculate the sample mean and variance."
   ]
  },
  {
   "cell_type": "code",
   "execution_count": 5,
   "id": "82aa206c-1a74-4fe6-b29b-be7bb0ed8d29",
   "metadata": {},
   "outputs": [
    {
     "name": "stdout",
     "output_type": "stream",
     "text": [
      "Sample Mean: 5.011\n",
      "Sample Variance: 4.676879\n"
     ]
    }
   ],
   "source": [
    "import numpy as np\n",
    "\n",
    "# Parameters\n",
    "mean_poisson = 5   # Mean of the Poisson distribution (λ)\n",
    "sample_size = 1000  # Size of the random sample\n",
    "\n",
    "# Generate a random sample from the Poisson distribution\n",
    "sample = np.random.poisson(lam=mean_poisson, size=sample_size)\n",
    "\n",
    "# Calculate the sample mean and variance\n",
    "sample_mean = np.mean(sample)\n",
    "sample_variance = np.var(sample)\n",
    "\n",
    "# Output the results\n",
    "print(f\"Sample Mean: {sample_mean}\")\n",
    "print(f\"Sample Variance: {sample_variance}\")\n"
   ]
  },
  {
   "cell_type": "markdown",
   "id": "ed73c0a9-b738-4529-a705-ac512df7f6f0",
   "metadata": {},
   "source": [
    "# Q9. How mean and variance are related in Binomial distribution and Poisson distribution?"
   ]
  },
  {
   "cell_type": "markdown",
   "id": "b9816a69-ee9b-4b60-9c54-c343c56d3875",
   "metadata": {},
   "source": [
    "In both the **Binomial** and **Poisson** distributions, the mean and variance are related, but they differ in their specific relationships and characteristics.\n",
    "\n",
    "### **Binomial Distribution**\n",
    "\n",
    "- **Mean (\\( \\mu \\))**: The mean of a Binomial distribution is given by:\n",
    "  \\[\n",
    "  \\mu = n \\cdot p\n",
    "  \\]\n",
    "  where:\n",
    "  - \\( n \\) is the number of trials.\n",
    "  - \\( p \\) is the probability of success in each trial.\n",
    "\n",
    "- **Variance (\\( \\sigma^2 \\))**: The variance of a Binomial distribution is given by:\n",
    "  \\[\n",
    "  \\sigma^2 = n \\cdot p \\cdot (1 - p)\n",
    "  \\]\n",
    "  where:\n",
    "  - \\( n \\) is the number of trials.\n",
    "  - \\( p \\) is the probability of success in each trial.\n",
    "  \n",
    "### **Poisson Distribution**\n",
    "\n",
    "- **Mean (\\( \\lambda \\))**: The mean of a Poisson distribution is given by:\n",
    "  \\[\n",
    "  \\mu = \\lambda\n",
    "  \\]\n",
    "  where:\n",
    "  - \\( \\lambda \\) is the average rate of occurrences (mean).\n",
    "\n",
    "- **Variance (\\( \\sigma^2 \\))**: The variance of a Poisson distribution is given by:\n",
    "  \\[\n",
    "  \\sigma^2 = \\lambda\n",
    "  \\]\n",
    "  where:\n",
    "  - \\( \\lambda \\) is the average rate of occurrences (mean).\n",
    "\n",
    "### Key Relationships and Differences:\n",
    "\n",
    "1. **Equality of Mean and Variance**:\n",
    "   - **Poisson Distribution**: The mean and variance are equal (\\( \\lambda \\)). This is a unique property of the Poisson distribution.\n",
    "   - **Binomial Distribution**: The variance is generally less than the mean unless \\( p = 0.5 \\). The variance is \\( n \\cdot p \\cdot (1 - p) \\), which can be less than, equal to, or greater than the mean depending on the values of \\( n \\) and \\( p \\).\n",
    "\n",
    "2. **Mean and Variance Comparison**:\n",
    "   - In a Binomial distribution, the variance depends on both the probability of success \\( p \\) and the number of trials \\( n \\), while in a Poisson distribution, the mean and variance are both determined by a single parameter \\( \\lambda \\).\n",
    "\n",
    "3. **Special Case of Poisson as an Approximation**:\n",
    "   - When the number of trials \\( n \\) in a Binomial distribution is large, and the probability of success \\( p \\) is small, such that \\( \\lambda = n \\cdot p \\) remains constant, the Binomial distribution can be approximated by the Poisson distribution with \\( \\lambda \\) as the parameter. In this case, the mean and variance of the Poisson approximation will be close to those of the Binomial distribution.\n",
    "\n",
    "### Summary:\n",
    "\n",
    "- **Binomial Distribution**: Mean = \\( n \\cdot p \\), Variance = \\( n \\cdot p \\cdot (1 - p) \\).\n",
    "- **Poisson Distribution**: Mean = \\( \\lambda \\), Variance = \\( \\lambda \\)."
   ]
  },
  {
   "cell_type": "markdown",
   "id": "ebf12f6b-1fd3-421b-9379-902c85696440",
   "metadata": {},
   "source": [
    "# Q10. In normal distribution with respect to mean position, where does the least frequent data appear?"
   ]
  },
  {
   "cell_type": "markdown",
   "id": "311c8a15-da95-4eb2-8bdb-7a4767139b92",
   "metadata": {},
   "source": [
    "In a normal distribution, the least frequent data points appear at the **extremes** of the distribution, far from the mean.\n",
    "\n",
    "### Key Points:\n",
    "\n",
    "1. **Normal Distribution Shape**:\n",
    "   - A normal distribution is symmetric and bell-shaped, with the highest frequency of data points occurring at the center, which is the mean (\\( \\mu \\)).\n",
    "   - The frequency of data points decreases as you move away from the mean towards the tails of the distribution.\n",
    "\n",
    "2. **Mean Position**:\n",
    "   - The mean (\\( \\mu \\)) is the center of the distribution where the probability density is highest.\n",
    "   - As you move further away from the mean in either direction (towards the tails), the probability density decreases, meaning that fewer data points are observed.\n",
    "\n",
    "3. **Least Frequent Data**:\n",
    "   - Data points that are far from the mean (in the tails of the distribution) are less frequent.\n",
    "   - In practical terms, this means that values far from the mean (in the left or right tail) are less likely to occur.\n",
    "\n",
    "### Visual Representation:\n",
    "\n",
    "In a normal distribution plot:\n",
    "- The **mean** is at the peak of the bell curve.\n",
    "- The **least frequent data points** are located in the **far-left** and **far-right** regions of the curve, where the curve flattens out and approaches the horizontal axis.\n",
    "\n",
    "### Summary:\n",
    "\n",
    "In a normal distribution, the least frequent data appears at the extremes, far from the mean, in the tails of the distribution."
   ]
  }
 ],
 "metadata": {
  "kernelspec": {
   "display_name": "Python 3 (ipykernel)",
   "language": "python",
   "name": "python3"
  },
  "language_info": {
   "codemirror_mode": {
    "name": "ipython",
    "version": 3
   },
   "file_extension": ".py",
   "mimetype": "text/x-python",
   "name": "python",
   "nbconvert_exporter": "python",
   "pygments_lexer": "ipython3",
   "version": "3.10.8"
  }
 },
 "nbformat": 4,
 "nbformat_minor": 5
}
